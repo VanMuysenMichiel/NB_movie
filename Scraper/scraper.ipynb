{
 "cells": [
  {
   "attachments": {},
   "cell_type": "markdown",
   "metadata": {},
   "source": [
    "where to find info https://www.filmsite.org/momentsindx1.html <br>\n",
    "where to watch https://www.justwatch.com/nl/movie/the-maltese-falcon\n"
   ]
  },
  {
   "cell_type": "code",
   "execution_count": null,
   "metadata": {},
   "outputs": [],
   "source": [
    "import requests\n",
    "from bs4 import BeautifulSoup\n",
    "import re\n",
    "\n",
    "arrayNumbers = [\"1\",\"2\",\"3\",\"4\",\"5\",\"6\",\"7\",\"8\"]\n",
    "arrayTitle = []\n",
    "\n",
    "\n",
    "for number in arrayNumbers:\n",
    "    URL = \"https://www.filmsite.org/momentsindx\"+number+\".html\"\n",
    "    page = requests.get(URL)\n",
    "    soup = BeautifulSoup(page.content, \"html.parser\")\n",
    "\n",
    "    results = soup.find_all(size=\"4\")\n",
    "    for x in results:\n",
    "        string = x.text\n",
    "        result = ' '.join(string.split())\n",
    "        arrayTitle.append(result)\n",
    "\n",
    "arrayTitle.remove(\"Apocalypse Now Redux (2001)\")\n"
   ]
  },
  {
   "cell_type": "code",
   "execution_count": null,
   "metadata": {},
   "outputs": [],
   "source": [
    "with open('summary.txt') as f:\n",
    "    lines = f.readlines()\n",
    "\n",
    "new_list = [item.strip() for item in lines]\n",
    "final_list = [item for item in new_list if item]\n",
    "finalfinal_list =[]\n",
    "for x in final_list:\n",
    "    z = re.sub(\",\",\" \",x)\n",
    "    finalfinal_list.append(z)\n"
   ]
  },
  {
   "cell_type": "code",
   "execution_count": null,
   "metadata": {},
   "outputs": [],
   "source": [
    "whereToWatch = []\n",
    "cleanTitle = []\n",
    "\n",
    "for x in arrayTitle:\n",
    "    result = ''.join([i for i in x if not i.isdigit()])\n",
    "    final = result.replace(\" ()\", \"\")\n",
    "    url = final.replace(\" \",\"-\")\n",
    "    y = url.replace(\".\", \"\")\n",
    "    z = y.replace(\":\",\"\")\n",
    "    cleanTitle.append(z)\n",
    "\n",
    "for x in cleanTitle:\n",
    "    URL = \"https://www.justwatch.com/nl/movie/\" + x \n",
    "    page = requests.get(URL)\n",
    "    soup = BeautifulSoup(page.content, \"html.parser\")\n",
    "\n",
    "    description = soup.find_all(\"p\", class_=\"mt-0\")\n",
    "    try: \n",
    "        whereToWatch.append(description[1].text)\n",
    "    except:\n",
    "        whereToWatch.append(\"Nowhere available\")"
   ]
  },
  {
   "cell_type": "code",
   "execution_count": null,
   "metadata": {},
   "outputs": [],
   "source": [
    "with open(\"output.txt\", \"w\") as txt_file:\n",
    "    for x in range(0,102):\n",
    "        txt_file.write(arrayTitle[x] + \" split1 \" + finalfinal_list[x] + \" split2 \" + whereToWatch[x] + \"\\r\")"
   ]
  }
 ],
 "metadata": {
  "kernelspec": {
   "display_name": "Python 3",
   "language": "python",
   "name": "python3"
  },
  "language_info": {
   "codemirror_mode": {
    "name": "ipython",
    "version": 3
   },
   "file_extension": ".py",
   "mimetype": "text/x-python",
   "name": "python",
   "nbconvert_exporter": "python",
   "pygments_lexer": "ipython3",
   "version": "3.10.2 (tags/v3.10.2:a58ebcc, Jan 17 2022, 14:12:15) [MSC v.1929 64 bit (AMD64)]"
  },
  "orig_nbformat": 4,
  "vscode": {
   "interpreter": {
    "hash": "0a0230e119e70663ce535c37aa16b450fced0c9df566f225ad95a7ec7eab4bb2"
   }
  }
 },
 "nbformat": 4,
 "nbformat_minor": 2
}
